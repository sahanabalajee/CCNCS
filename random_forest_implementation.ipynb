{
 "cells": [
  {
   "cell_type": "code",
   "execution_count": 1,
   "metadata": {},
   "outputs": [],
   "source": [
    "import pandas as pd\n",
    "from sklearn.utils import shuffle\n",
    "from imblearn.over_sampling import SMOTE\n",
    "from sklearn.model_selection import train_test_split\n",
    "from sklearn.preprocessing import StandardScaler\n",
    "from sklearn.decomposition import PCA\n",
    "from sklearn.ensemble import RandomForestClassifier\n",
    "from sklearn import metrics\n",
    "from sklearn.metrics import classification_report\n"
   ]
  },
  {
   "cell_type": "code",
   "execution_count": 2,
   "metadata": {},
   "outputs": [],
   "source": [
    "# Load preprocessed data\n",
    "ML_data = pd.read_csv(\"preprocessed_ML_data.csv\")"
   ]
  },
  {
   "cell_type": "code",
   "execution_count": 3,
   "metadata": {},
   "outputs": [],
   "source": [
    "# Function to preprocess data, train and evaluate Random Forest model\n",
    "def train_and_evaluate_random_forest(X, y, class_type):\n",
    "    # Apply SMOTE\n",
    "    smote = SMOTE(random_state=42)\n",
    "    X, y = smote.fit_resample(X, y)\n",
    "    \n",
    "    # Split data into training and testing sets\n",
    "    X_train, X_test, y_train, y_test = train_test_split(X, y, test_size=0.2, random_state=42)\n",
    "    \n",
    "    # Scale data\n",
    "    scaler = StandardScaler()\n",
    "    columns = X_train.columns\n",
    "    X_train = scaler.fit_transform(X_train)\n",
    "    X_test = scaler.transform(X_test)\n",
    "    \n",
    "    # Convert the scaled data back to DataFrame\n",
    "    X_train = pd.DataFrame(X_train, columns=columns)\n",
    "    X_test = pd.DataFrame(X_test, columns=columns)\n",
    "    \n",
    "    # Apply PCA\n",
    "    pca = PCA(n_components=0.95)  # Retain 95% of the variance\n",
    "    X_train_pca = pca.fit_transform(X_train)\n",
    "    X_test_pca = pca.transform(X_test)\n",
    "    \n",
    "    # Convert the PCA-transformed data back to DataFrame\n",
    "    X_train = pd.DataFrame(X_train_pca)\n",
    "    X_test = pd.DataFrame(X_test_pca)\n",
    "    \n",
    "    # Train Random Forest model\n",
    "    model = RandomForestClassifier(criterion='gini', min_samples_leaf=1, min_samples_split=2, n_estimators=100, random_state=42)\n",
    "    model.fit(X_train, y_train)\n",
    "    y_pred = model.predict(X_test)\n",
    "    \n",
    "    # Evaluate model\n",
    "    print(f\"{class_type} - Random Forest Classifier\")\n",
    "    print(\"Accuracy:\", metrics.accuracy_score(y_test, y_pred), \"\\n\")\n",
    "    report = classification_report(y_test, y_pred)\n",
    "    print(report)\n"
   ]
  },
  {
   "cell_type": "code",
   "execution_count": 4,
   "metadata": {},
   "outputs": [
    {
     "name": "stdout",
     "output_type": "stream",
     "text": [
      "2-class - Random Forest Classifier\n",
      "Accuracy: 1.0 \n",
      "\n",
      "              precision    recall  f1-score   support\n",
      "\n",
      "           0       1.00      1.00      1.00     25830\n",
      "           1       1.00      1.00      1.00     25413\n",
      "\n",
      "    accuracy                           1.00     51243\n",
      "   macro avg       1.00      1.00      1.00     51243\n",
      "weighted avg       1.00      1.00      1.00     51243\n",
      "\n"
     ]
    }
   ],
   "source": [
    "# 2-class classification\n",
    "X_2 = ML_data.drop(columns=['Attack_label', 'Attack_type', 'Attack_class'])\n",
    "y_2_class = ML_data['Attack_label']\n",
    "train_and_evaluate_random_forest(X_2, y_2_class, \"2-class\")\n"
   ]
  },
  {
   "cell_type": "code",
   "execution_count": 5,
   "metadata": {},
   "outputs": [
    {
     "name": "stdout",
     "output_type": "stream",
     "text": [
      "6-class - Random Forest Classifier\n",
      "Accuracy: 0.9092648782842563 \n",
      "\n",
      "                   precision    recall  f1-score   support\n",
      "\n",
      "         DoS/DDoS       0.90      0.89      0.89      9662\n",
      "Injection Attacks       0.75      0.82      0.79      9576\n",
      "             MITM       1.00      1.00      1.00      9641\n",
      "          Malware       0.85      0.79      0.82      9585\n",
      "           Normal       1.00      1.00      1.00      9751\n",
      " Scanning_Attacks       0.97      0.95      0.96      9789\n",
      "\n",
      "         accuracy                           0.91     58004\n",
      "        macro avg       0.91      0.91      0.91     58004\n",
      "     weighted avg       0.91      0.91      0.91     58004\n",
      "\n"
     ]
    }
   ],
   "source": [
    "# 6-class classification\n",
    "X_6 = ML_data.drop(columns=['Attack_label', 'Attack_type', 'Attack_class'])\n",
    "y_6_class = ML_data['Attack_class']\n",
    "train_and_evaluate_random_forest(X_6, y_6_class, \"6-class\")"
   ]
  },
  {
   "cell_type": "code",
   "execution_count": 6,
   "metadata": {},
   "outputs": [
    {
     "name": "stdout",
     "output_type": "stream",
     "text": [
      "15-class - Random Forest Classifier\n",
      "Accuracy: 0.8562210708117444 \n",
      "\n",
      "                       precision    recall  f1-score   support\n",
      "\n",
      "             Backdoor       1.00      0.98      0.99      4859\n",
      "            DDoS_HTTP       0.68      0.62      0.65      4812\n",
      "            DDoS_ICMP       1.00      1.00      1.00      4868\n",
      "             DDoS_TCP       0.88      0.94      0.91      4796\n",
      "             DDoS_UDP       1.00      1.00      1.00      4805\n",
      "       Fingerprinting       0.91      0.90      0.90      4845\n",
      "                 MITM       1.00      1.00      1.00      4868\n",
      "               Normal       1.00      1.00      1.00      4782\n",
      "             Password       0.49      0.52      0.51      4847\n",
      "        Port_Scanning       0.97      0.95      0.96      4797\n",
      "           Ransomware       0.97      0.95      0.96      4842\n",
      "        SQL_injection       0.50      0.55      0.52      4815\n",
      "            Uploading       0.60      0.55      0.57      4861\n",
      "Vulnerability_scanner       0.94      0.95      0.94      4769\n",
      "                  XSS       0.95      0.93      0.94      4809\n",
      "\n",
      "             accuracy                           0.86     72375\n",
      "            macro avg       0.86      0.86      0.86     72375\n",
      "         weighted avg       0.86      0.86      0.86     72375\n",
      "\n"
     ]
    }
   ],
   "source": [
    "# 15-class classification\n",
    "X_15 = ML_data.drop(columns=['Attack_label', 'Attack_type', 'Attack_class'])\n",
    "y_15_class = ML_data['Attack_type']\n",
    "train_and_evaluate_random_forest(X_15, y_15_class, \"15-class\")"
   ]
  }
 ],
 "metadata": {
  "kernelspec": {
   "display_name": "ccncs_project",
   "language": "python",
   "name": "python3"
  },
  "language_info": {
   "codemirror_mode": {
    "name": "ipython",
    "version": 3
   },
   "file_extension": ".py",
   "mimetype": "text/x-python",
   "name": "python",
   "nbconvert_exporter": "python",
   "pygments_lexer": "ipython3",
   "version": "3.10.8"
  }
 },
 "nbformat": 4,
 "nbformat_minor": 2
}
