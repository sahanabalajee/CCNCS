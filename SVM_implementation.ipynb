{
 "cells": [
  {
   "cell_type": "code",
   "execution_count": 21,
   "metadata": {},
   "outputs": [],
   "source": [
    "import pandas as pd\n",
    "from sklearn.utils import shuffle\n",
    "from imblearn.over_sampling import SMOTE"
   ]
  },
  {
   "cell_type": "code",
   "execution_count": 22,
   "metadata": {},
   "outputs": [],
   "source": [
    "ML_data = pd.read_csv(\"preprocessed_ML_data.csv\")\n"
   ]
  },
  {
   "cell_type": "code",
   "execution_count": 23,
   "metadata": {},
   "outputs": [],
   "source": [
    "#Spliting data into X and ys\n",
    "\n",
    "X = ML_data.drop(columns=['Attack_label','Attack_type','Attack_class'])\n",
    "y_2_class= ML_data['Attack_label']\n",
    "y_6_class= ML_data['Attack_class']\n",
    "y_15_class= ML_data['Attack_type']"
   ]
  },
  {
   "cell_type": "code",
   "execution_count": 24,
   "metadata": {},
   "outputs": [
    {
     "data": {
      "text/plain": [
       "0         1\n",
       "1         1\n",
       "2         1\n",
       "3         1\n",
       "4         1\n",
       "         ..\n",
       "152227    1\n",
       "152228    1\n",
       "152229    1\n",
       "152230    0\n",
       "152231    1\n",
       "Name: Attack_label, Length: 152232, dtype: int64"
      ]
     },
     "execution_count": 24,
     "metadata": {},
     "output_type": "execute_result"
    }
   ],
   "source": [
    "y_2_class"
   ]
  },
  {
   "cell_type": "code",
   "execution_count": 27,
   "metadata": {},
   "outputs": [],
   "source": [
    "#2 class classification\n",
    "smote = SMOTE(random_state=42)\n",
    "X, y_2_class = smote.fit_resample(X, y_2_class)\n",
    "\n",
    "#spliting test train data\n",
    "from sklearn.model_selection import train_test_split\n",
    "X_train, X_test, y_train, y_test = train_test_split(X, y_2_class, test_size=0.2, random_state=42)\n",
    "\n"
   ]
  },
  {
   "cell_type": "code",
   "execution_count": 28,
   "metadata": {},
   "outputs": [
    {
     "name": "stdout",
     "output_type": "stream",
     "text": [
      "127538    1\n",
      "102625    1\n",
      "27104     1\n",
      "17122     1\n",
      "243942    0\n",
      "         ..\n",
      "119879    1\n",
      "103694    1\n",
      "131932    1\n",
      "146867    0\n",
      "121958    1\n",
      "Name: Attack_label, Length: 204971, dtype: int64\n"
     ]
    }
   ],
   "source": [
    "print(y_train)"
   ]
  },
  {
   "cell_type": "code",
   "execution_count": 29,
   "metadata": {},
   "outputs": [],
   "source": [
    "#operations on X_train and X_test\n",
    "#scale data\n",
    "from sklearn.preprocessing import StandardScaler\n",
    "scaler = StandardScaler()\n",
    "columns = X_train.columns\n",
    "X_train = scaler.fit_transform(X_train)\n",
    "X_test = scaler.transform(X_test)\n",
    "\n",
    "# Convert the scaled data back to DataFrame\n",
    "X_train = pd.DataFrame(X_train, columns=columns)\n",
    "X_test = pd.DataFrame(X_test, columns=columns)\n",
    "\n",
    "#PCA\n",
    "from sklearn.decomposition import PCA\n",
    "pca = PCA(n_components=0.95)  # Retain 95% of the variance\n",
    "X_train_pca = pca.fit_transform(X_train)\n",
    "X_test_pca = pca.transform(X_test)\n",
    "\n",
    "# Convert the PCA-transformed data back to DataFrame if needed (optional)\n",
    "X_train = pd.DataFrame(X_train_pca)\n",
    "X_test = pd.DataFrame(X_test_pca)"
   ]
  },
  {
   "cell_type": "code",
   "execution_count": 31,
   "metadata": {},
   "outputs": [],
   "source": [
    "#2 class model\n",
    "from sklearn.svm import SVC\n",
    "from sklearn import metrics\n",
    "model_2_class = SVC(C = 1.0,degree = 3, kernel = 'linear')\n",
    "model_2_class.fit(X_train, y_train)\n",
    "y_pred_2_class = model_2_class.predict(X_test)"
   ]
  },
  {
   "cell_type": "code",
   "execution_count": 32,
   "metadata": {},
   "outputs": [
    {
     "name": "stdout",
     "output_type": "stream",
     "text": [
      "accuracy 1.0 \n",
      "\n",
      "              precision    recall  f1-score   support\n",
      "\n",
      "           0       1.00      1.00      1.00     25840\n",
      "           1       1.00      1.00      1.00     25403\n",
      "\n",
      "    accuracy                           1.00     51243\n",
      "   macro avg       1.00      1.00      1.00     51243\n",
      "weighted avg       1.00      1.00      1.00     51243\n",
      "\n"
     ]
    }
   ],
   "source": [
    "print(\"accuracy\", metrics.accuracy_score(y_test, y_pred_2_class), \"\\n\")\n",
    "from sklearn.metrics import classification_report\n",
    "report = classification_report(y_test, y_pred_2_class)\n",
    "print(report)"
   ]
  },
  {
   "cell_type": "code",
   "execution_count": 40,
   "metadata": {},
   "outputs": [],
   "source": [
    "#6 class classification\n",
    "X = ML_data.drop(columns=['Attack_label','Attack_type','Attack_class'])\n",
    "y_6_class= ML_data['Attack_class']\n",
    "#2 class classification\n",
    "smote = SMOTE(random_state=42)\n",
    "X, y_6_class = smote.fit_resample(X, y_6_class)\n",
    "\n",
    "#spliting test train data\n",
    "from sklearn.model_selection import train_test_split\n",
    "X_train, X_test, y_train, y_test = train_test_split(X, y_6_class, test_size=0.2, random_state=42)\n"
   ]
  },
  {
   "cell_type": "code",
   "execution_count": 41,
   "metadata": {},
   "outputs": [],
   "source": [
    "#operations on X_train and X_test\n",
    "#scale data\n",
    "\n",
    "scaler = StandardScaler()\n",
    "columns = X_train.columns\n",
    "X_train = scaler.fit_transform(X_train)\n",
    "X_test = scaler.transform(X_test)\n",
    "\n",
    "# Convert the scaled data back to DataFrame\n",
    "X_train = pd.DataFrame(X_train, columns=columns)\n",
    "X_test = pd.DataFrame(X_test, columns=columns)\n",
    "\n",
    "#PCA\n",
    "\n",
    "pca = PCA(n_components=0.95)  # Retain 95% of the variance\n",
    "X_train_pca = pca.fit_transform(X_train)\n",
    "X_test_pca = pca.transform(X_test)\n",
    "\n",
    "# Convert the PCA-transformed data back to DataFrame if needed (optional)\n",
    "X_train = pd.DataFrame(X_train_pca)\n",
    "X_test = pd.DataFrame(X_test_pca)\n",
    "\n",
    "#6 class model\n",
    "model_6_class = SVC(C = 1,degree = 3, kernel = 'linear')\n",
    "model_6_class.fit(X_train, y_train)\n",
    "y_pred_6_class = model_6_class.predict(X_test)\n"
   ]
  },
  {
   "cell_type": "code",
   "execution_count": 42,
   "metadata": {},
   "outputs": [
    {
     "data": {
      "text/plain": [
       "276416     Scanning_Attacks\n",
       "272978     Scanning_Attacks\n",
       "63650              DoS/DDoS\n",
       "173709                 MITM\n",
       "284604     Scanning_Attacks\n",
       "                ...        \n",
       "119879             DoS/DDoS\n",
       "259178               Normal\n",
       "131932              Malware\n",
       "146867               Normal\n",
       "121958    Injection Attacks\n",
       "Name: Attack_class, Length: 232012, dtype: object"
      ]
     },
     "execution_count": 42,
     "metadata": {},
     "output_type": "execute_result"
    }
   ],
   "source": [
    "y_train"
   ]
  },
  {
   "cell_type": "code",
   "execution_count": 43,
   "metadata": {},
   "outputs": [
    {
     "name": "stdout",
     "output_type": "stream",
     "text": [
      "accuracy 0.9109716571270947 \n",
      "\n",
      "                   precision    recall  f1-score   support\n",
      "\n",
      "         DoS/DDoS       0.95      0.85      0.90      9632\n",
      "Injection Attacks       0.69      0.97      0.80      9647\n",
      "             MITM       1.00      1.00      1.00      9639\n",
      "          Malware       0.97      0.72      0.83      9672\n",
      "           Normal       1.00      1.00      1.00      9679\n",
      " Scanning_Attacks       0.98      0.92      0.95      9735\n",
      "\n",
      "         accuracy                           0.91     58004\n",
      "        macro avg       0.93      0.91      0.91     58004\n",
      "     weighted avg       0.93      0.91      0.91     58004\n",
      "\n"
     ]
    }
   ],
   "source": [
    "print(\"accuracy\", metrics.accuracy_score(y_test, y_pred_6_class), \"\\n\")\n",
    "from sklearn.metrics import classification_report\n",
    "report = classification_report(y_test, y_pred_6_class)\n",
    "print(report)"
   ]
  },
  {
   "cell_type": "code",
   "execution_count": 7,
   "metadata": {},
   "outputs": [],
   "source": [
    "#15 class classification\n",
    "import pandas as pd\n",
    "from sklearn.utils import shuffle\n",
    "from imblearn.over_sampling import SMOTE\n",
    "from sklearn.model_selection import train_test_split\n",
    "from sklearn.preprocessing import StandardScaler\n",
    "from sklearn.decomposition import PCA\n",
    "from sklearn.svm import SVC\n",
    "from sklearn import metrics\n",
    "ML_data = pd.read_csv(\"preprocessed_ML_data.csv\")\n",
    "X = ML_data.drop(columns=['Attack_label','Attack_type','Attack_class'])\n",
    "y_15_class= ML_data['Attack_type']\n",
    "smote = SMOTE(random_state=42)\n",
    "X, y_15_class = smote.fit_resample(X, y_15_class)\n",
    "\n",
    "#spliting test train data\n",
    "\n",
    "X_train, X_test, y_train, y_test = train_test_split(X, y_15_class, test_size=0.2, random_state=42)\n",
    "\n",
    "#operations on X_train and X_test\n",
    "#scale data\n",
    "\n",
    "scaler = StandardScaler()\n",
    "columns = X_train.columns\n",
    "X_train = scaler.fit_transform(X_train)\n",
    "X_test = scaler.transform(X_test)\n",
    "\n",
    "# Convert the scaled data back to DataFrame\n",
    "X_train = pd.DataFrame(X_train, columns=columns)\n",
    "X_test = pd.DataFrame(X_test, columns=columns)\n",
    "\n",
    "#PCA\n",
    "\n",
    "pca = PCA(n_components=0.95)  # Retain 95% of the variance\n",
    "X_train_pca = pca.fit_transform(X_train)\n",
    "X_test_pca = pca.transform(X_test)\n",
    "\n",
    "# Convert the PCA-transformed data back to DataFrame if needed (optional)\n",
    "X_train = pd.DataFrame(X_train_pca)\n",
    "X_test = pd.DataFrame(X_test_pca)\n",
    "\n",
    "#15 class model\n",
    "model_15_class = SVC(C = 15, kernel = 'linear')\n",
    "model_15_class.fit(X_train, y_train)\n",
    "y_pred_15_class = model_15_class.predict(X_test)\n"
   ]
  },
  {
   "cell_type": "code",
   "execution_count": null,
   "metadata": {},
   "outputs": [],
   "source": [
    "print(\"accuracy\", metrics.accuracy_score(y_test, y_pred_15_class), \"\\n\")\n",
    "from sklearn.metrics import classification_report\n",
    "report = classification_report(y_test, y_pred_15_class)\n",
    "print(report)"
   ]
  }
 ],
 "metadata": {
  "kernelspec": {
   "display_name": "attack_prediction",
   "language": "python",
   "name": "python3"
  },
  "language_info": {
   "codemirror_mode": {
    "name": "ipython",
    "version": 3
   },
   "file_extension": ".py",
   "mimetype": "text/x-python",
   "name": "python",
   "nbconvert_exporter": "python",
   "pygments_lexer": "ipython3",
   "version": "3.10.14"
  }
 },
 "nbformat": 4,
 "nbformat_minor": 2
}
