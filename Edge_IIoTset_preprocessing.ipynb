{
 "cells": [
  {
   "cell_type": "code",
   "execution_count": 101,
   "id": "7c725bef-47f8-42ad-8910-7114ccc67e8c",
   "metadata": {},
   "outputs": [],
   "source": [
    "import pandas as pd\n",
    "from sklearn.utils import shuffle"
   ]
  },
  {
   "cell_type": "code",
   "execution_count": 102,
   "id": "9b79adc2",
   "metadata": {},
   "outputs": [
    {
     "name": "stderr",
     "output_type": "stream",
     "text": [
      "/var/folders/vl/lgqwbdgd6xs3y18lj3tcc_500000gn/T/ipykernel_15688/2469433682.py:1: DtypeWarning: Columns (3,6,11,13,14,15,16,17,31,32,34,39,45,51,54,55) have mixed types. Specify dtype option on import or set low_memory=False.\n",
      "  ML_data = pd.read_csv(\"archive/Edge-IIoTset dataset/Selected dataset for ML and DL/ML-EdgeIIoT-dataset.csv\")\n",
      "/var/folders/vl/lgqwbdgd6xs3y18lj3tcc_500000gn/T/ipykernel_15688/2469433682.py:2: DtypeWarning: Columns (2,3,6,11,13,14,15,16,17,31,32,34,39,45,51,54,55) have mixed types. Specify dtype option on import or set low_memory=False.\n",
      "  DNN_data = pd.read_csv(\"archive/Edge-IIoTset dataset/Selected dataset for ML and DL/DNN-EdgeIIoT-dataset.csv\")\n"
     ]
    }
   ],
   "source": [
    "ML_data = pd.read_csv(\"archive/Edge-IIoTset dataset/Selected dataset for ML and DL/ML-EdgeIIoT-dataset.csv\")\n",
    "DNN_data = pd.read_csv(\"archive/Edge-IIoTset dataset/Selected dataset for ML and DL/DNN-EdgeIIoT-dataset.csv\")\n"
   ]
  },
  {
   "cell_type": "code",
   "execution_count": 103,
   "id": "ca4d9cab",
   "metadata": {},
   "outputs": [],
   "source": [
    "taken_features = ['arp.opcode', 'arp.hw.size', 'icmp.checksum', 'icmp.seq_le', 'http.content_length', 'http.request.method', 'http.referer', 'http.request.version', 'http.response', 'tcp.ack', 'tcp.ack_raw', 'tcp.checksum', 'tcp.connection.fin', 'tcp.connection.rst', 'tcp.connection.syn', 'tcp.connection.synack', 'tcp.flags', 'tcp.flags.ack', 'tcp.len', 'tcp.seq', 'udp.stream', 'udp.time_delta', 'dns.qry.name', 'dns.qry.name.len', 'dns.qry.qu', 'dns.retransmission', 'dns.retransmit_request', 'mqtt.conack.flags', 'mqtt.conflag.cleansess', 'mqtt.conflags', 'mqtt.hdrflags', 'mqtt.len', 'mqtt.msgtype', 'mqtt.proto_len', 'mqtt.protoname', 'mqtt.topic', 'mqtt.topic_len', 'mqtt.ver', 'Attack_label', 'Attack_type']\n",
    "total_features = ML_data.columns\n",
    "features_to_be_dropped = []\n",
    "for feature in total_features:\n",
    "    if feature not in taken_features:\n",
    "        features_to_be_dropped.append(feature)\n"
   ]
  },
  {
   "cell_type": "code",
   "execution_count": 104,
   "id": "17fe3ad0",
   "metadata": {},
   "outputs": [
    {
     "data": {
      "text/plain": [
       "['frame.time',\n",
       " 'ip.src_host',\n",
       " 'ip.dst_host',\n",
       " 'arp.dst.proto_ipv4',\n",
       " 'arp.src.proto_ipv4',\n",
       " 'icmp.transmit_timestamp',\n",
       " 'icmp.unused',\n",
       " 'http.file_data',\n",
       " 'http.request.uri.query',\n",
       " 'http.request.full_uri',\n",
       " 'http.tls_port',\n",
       " 'tcp.dstport',\n",
       " 'tcp.options',\n",
       " 'tcp.payload',\n",
       " 'tcp.srcport',\n",
       " 'udp.port',\n",
       " 'dns.qry.type',\n",
       " 'dns.retransmit_request_in',\n",
       " 'mqtt.msg_decoded_as',\n",
       " 'mqtt.msg',\n",
       " 'mbtcp.len',\n",
       " 'mbtcp.trans_id',\n",
       " 'mbtcp.unit_id']"
      ]
     },
     "execution_count": 104,
     "metadata": {},
     "output_type": "execute_result"
    }
   ],
   "source": [
    "features_to_be_dropped"
   ]
  },
  {
   "cell_type": "code",
   "execution_count": 105,
   "id": "dd0e2f98",
   "metadata": {},
   "outputs": [],
   "source": [
    "#Drop static features\n",
    "ML_data.drop(columns = features_to_be_dropped, inplace = True)\n",
    "DNN_data.drop(columns = features_to_be_dropped,inplace = True)"
   ]
  },
  {
   "cell_type": "markdown",
   "id": "42f4c6b7",
   "metadata": {},
   "source": []
  },
  {
   "cell_type": "code",
   "execution_count": 106,
   "id": "41964f53",
   "metadata": {},
   "outputs": [],
   "source": [
    "#Drop null values\n",
    "ML_data.dropna(inplace = True)\n",
    "DNN_data.dropna(inplace = True)\n"
   ]
  },
  {
   "cell_type": "code",
   "execution_count": 107,
   "id": "5a5de048",
   "metadata": {},
   "outputs": [],
   "source": [
    "#Drop duplicates\n",
    "ML_data.drop_duplicates(inplace = True)\n",
    "DNN_data.drop_duplicates(inplace = True)"
   ]
  },
  {
   "cell_type": "code",
   "execution_count": 108,
   "id": "01cdc601",
   "metadata": {},
   "outputs": [],
   "source": [
    "#Shuffle the data\n",
    "ML_data = shuffle(ML_data).reset_index(drop=True)\n",
    "DNN_data = shuffle(DNN_data).reset_index(drop=True)"
   ]
  },
  {
   "cell_type": "code",
   "execution_count": 109,
   "id": "5ae23045",
   "metadata": {},
   "outputs": [
    {
     "data": {
      "text/plain": [
       "0          Backdoor\n",
       "1               XSS\n",
       "2         DDoS_ICMP\n",
       "3         DDoS_ICMP\n",
       "4          Password\n",
       "            ...    \n",
       "152227          XSS\n",
       "152228     DDoS_TCP\n",
       "152229     Password\n",
       "152230       Normal\n",
       "152231    DDoS_ICMP\n",
       "Name: Attack_type, Length: 152232, dtype: object"
      ]
     },
     "execution_count": 109,
     "metadata": {},
     "output_type": "execute_result"
    }
   ],
   "source": [
    "ML_data['Attack_label']\n",
    "ML_data['Attack_type']"
   ]
  },
  {
   "cell_type": "code",
   "execution_count": 110,
   "id": "a3b0fade",
   "metadata": {},
   "outputs": [],
   "source": [
    "def summarize_by_category(df):\n",
    "    return df['Attack_type'].value_counts() "
   ]
  },
  {
   "cell_type": "code",
   "execution_count": 111,
   "id": "a4d7e452",
   "metadata": {},
   "outputs": [
    {
     "name": "stderr",
     "output_type": "stream",
     "text": [
      "/var/folders/vl/lgqwbdgd6xs3y18lj3tcc_500000gn/T/ipykernel_15688/3849663794.py:1: DtypeWarning: Columns (3,6,11,13,14,15,16,17,31,32,34,39,45,51,54,55) have mixed types. Specify dtype option on import or set low_memory=False.\n",
      "  original_ML_data = pd.read_csv(\"archive/Edge-IIoTset dataset/Selected dataset for ML and DL/ML-EdgeIIoT-dataset.csv\")\n",
      "/var/folders/vl/lgqwbdgd6xs3y18lj3tcc_500000gn/T/ipykernel_15688/3849663794.py:2: DtypeWarning: Columns (2,3,6,11,13,14,15,16,17,31,32,34,39,45,51,54,55) have mixed types. Specify dtype option on import or set low_memory=False.\n",
      "  original_DNN_data = pd.read_csv(\"archive/Edge-IIoTset dataset/Selected dataset for ML and DL/DNN-EdgeIIoT-dataset.csv\")\n"
     ]
    }
   ],
   "source": [
    "original_ML_data = pd.read_csv(\"archive/Edge-IIoTset dataset/Selected dataset for ML and DL/ML-EdgeIIoT-dataset.csv\")\n",
    "original_DNN_data = pd.read_csv(\"archive/Edge-IIoTset dataset/Selected dataset for ML and DL/DNN-EdgeIIoT-dataset.csv\")\n",
    "summary_original_ML = summarize_by_category(original_ML_data)\n",
    "summary_original_DNN = summarize_by_category(original_DNN_data)"
   ]
  },
  {
   "cell_type": "code",
   "execution_count": 112,
   "id": "1c771a0b",
   "metadata": {},
   "outputs": [],
   "source": [
    "summary_preprocessed_ML = summarize_by_category(ML_data)\n",
    "summary_preprocessed_DNN = summarize_by_category(DNN_data)"
   ]
  },
  {
   "cell_type": "code",
   "execution_count": 113,
   "id": "2101657c",
   "metadata": {},
   "outputs": [
    {
     "name": "stdout",
     "output_type": "stream",
     "text": [
      "ML data: original\n",
      "Attack_type\n",
      "Normal                   24301\n",
      "DDoS_UDP                 14498\n",
      "DDoS_ICMP                14090\n",
      "Ransomware               10925\n",
      "DDoS_HTTP                10561\n",
      "SQL_injection            10311\n",
      "Uploading                10269\n",
      "DDoS_TCP                 10247\n",
      "Backdoor                 10195\n",
      "Vulnerability_scanner    10076\n",
      "Port_Scanning            10071\n",
      "XSS                      10052\n",
      "Password                  9989\n",
      "MITM                      1214\n",
      "Fingerprinting            1001\n",
      "Name: count, dtype: int64\n",
      "ML data: preprocessed\n",
      "Attack_type\n",
      "Normal                   24125\n",
      "DDoS_UDP                 14498\n",
      "DDoS_ICMP                13096\n",
      "DDoS_HTTP                10495\n",
      "SQL_injection            10282\n",
      "DDoS_TCP                 10247\n",
      "Uploading                10214\n",
      "Vulnerability_scanner    10062\n",
      "Password                  9972\n",
      "Backdoor                  9865\n",
      "Ransomware                9689\n",
      "XSS                       9552\n",
      "Port_Scanning             8924\n",
      "Fingerprinting             853\n",
      "MITM                       358\n",
      "Name: count, dtype: int64\n"
     ]
    }
   ],
   "source": [
    "print(\"ML data: original\")\n",
    "print(summary_original_ML)\n",
    "print(\"ML data: preprocessed\")\n",
    "\n",
    "print(summary_preprocessed_ML)\n"
   ]
  },
  {
   "cell_type": "code",
   "execution_count": 114,
   "id": "eca44454",
   "metadata": {},
   "outputs": [
    {
     "name": "stdout",
     "output_type": "stream",
     "text": [
      "DNN data: original\n",
      "Attack_type\n",
      "Normal                   1615643\n",
      "DDoS_UDP                  121568\n",
      "DDoS_ICMP                 116436\n",
      "SQL_injection              51203\n",
      "Password                   50153\n",
      "Vulnerability_scanner      50110\n",
      "DDoS_TCP                   50062\n",
      "DDoS_HTTP                  49911\n",
      "Uploading                  37634\n",
      "Backdoor                   24862\n",
      "Port_Scanning              22564\n",
      "XSS                        15915\n",
      "Ransomware                 10925\n",
      "MITM                        1214\n",
      "Fingerprinting              1001\n",
      "Name: count, dtype: int64\n",
      "DNN data: preprocessed\n",
      "Attack_type\n",
      "Normal                   1380858\n",
      "DDoS_UDP                  121567\n",
      "DDoS_ICMP                  67939\n",
      "SQL_injection              50826\n",
      "DDoS_TCP                   50062\n",
      "Vulnerability_scanner      50026\n",
      "Password                   49933\n",
      "DDoS_HTTP                  49203\n",
      "Uploading                  36915\n",
      "Backdoor                   24026\n",
      "Port_Scanning              19983\n",
      "XSS                        15066\n",
      "Ransomware                  9689\n",
      "Fingerprinting               853\n",
      "MITM                         358\n",
      "Name: count, dtype: int64\n"
     ]
    }
   ],
   "source": [
    "print(\"DNN data: original\")\n",
    "print(summary_original_DNN)\n",
    "print(\"DNN data: preprocessed\")\n",
    "\n",
    "print(summary_preprocessed_DNN)"
   ]
  },
  {
   "cell_type": "code",
   "execution_count": 115,
   "id": "cff130d8",
   "metadata": {},
   "outputs": [
    {
     "data": {
      "text/plain": [
       "<bound method NDFrame.head of         arp.opcode  arp.hw.size  icmp.checksum  icmp.seq_le  \\\n",
       "0              0.0          0.0            0.0          0.0   \n",
       "1              0.0          0.0            0.0          0.0   \n",
       "2              0.0          0.0        56549.0       4828.0   \n",
       "3              0.0          0.0         9756.0      56458.0   \n",
       "4              0.0          0.0            0.0          0.0   \n",
       "...            ...          ...            ...          ...   \n",
       "152227         0.0          0.0            0.0          0.0   \n",
       "152228         0.0          0.0            0.0          0.0   \n",
       "152229         0.0          0.0            0.0          0.0   \n",
       "152230         0.0          0.0            0.0          0.0   \n",
       "152231         0.0          0.0        39612.0      15390.0   \n",
       "\n",
       "        http.content_length http.request.method http.referer  \\\n",
       "0                       0.0                 0.0          0.0   \n",
       "1                       0.0                   0            0   \n",
       "2                       0.0                 0.0          0.0   \n",
       "3                       0.0                 0.0          0.0   \n",
       "4                       0.0                   0          0.0   \n",
       "...                     ...                 ...          ...   \n",
       "152227                  0.0                   0            0   \n",
       "152228                  0.0                 0.0          0.0   \n",
       "152229                  0.0                   0          0.0   \n",
       "152230                  0.0                 0.0          0.0   \n",
       "152231                  0.0                 0.0          0.0   \n",
       "\n",
       "       http.request.version  http.response       tcp.ack  ...  mqtt.hdrflags  \\\n",
       "0                       0.0            0.0  0.000000e+00  ...            0.0   \n",
       "1                         0            0.0  1.210000e+02  ...            0.0   \n",
       "2                       0.0            0.0  0.000000e+00  ...            0.0   \n",
       "3                       0.0            0.0  0.000000e+00  ...            0.0   \n",
       "4                         0            0.0  1.000000e+00  ...            0.0   \n",
       "...                     ...            ...           ...  ...            ...   \n",
       "152227                    0            0.0  4.420000e+02  ...            0.0   \n",
       "152228                  0.0            0.0  2.043058e+09  ...            0.0   \n",
       "152229                    0            0.0  2.220000e+02  ...            0.0   \n",
       "152230                  0.0            0.0  1.396490e+05  ...            0.0   \n",
       "152231                  0.0            0.0  0.000000e+00  ...            0.0   \n",
       "\n",
       "        mqtt.len  mqtt.msgtype  mqtt.proto_len  mqtt.protoname  mqtt.topic  \\\n",
       "0            0.0           0.0             0.0             0.0         0.0   \n",
       "1            0.0           0.0             0.0             0.0         0.0   \n",
       "2            0.0           0.0             0.0             0.0         0.0   \n",
       "3            0.0           0.0             0.0             0.0         0.0   \n",
       "4            0.0           0.0             0.0             0.0         0.0   \n",
       "...          ...           ...             ...             ...         ...   \n",
       "152227       0.0           0.0             0.0             0.0         0.0   \n",
       "152228       0.0           0.0             0.0             0.0         0.0   \n",
       "152229       0.0           0.0             0.0             0.0         0.0   \n",
       "152230       0.0           0.0             0.0               0           0   \n",
       "152231       0.0           0.0             0.0             0.0         0.0   \n",
       "\n",
       "        mqtt.topic_len  mqtt.ver  Attack_label  Attack_type  \n",
       "0                  0.0       0.0             1     Backdoor  \n",
       "1                  0.0       0.0             1          XSS  \n",
       "2                  0.0       0.0             1    DDoS_ICMP  \n",
       "3                  0.0       0.0             1    DDoS_ICMP  \n",
       "4                  0.0       0.0             1     Password  \n",
       "...                ...       ...           ...          ...  \n",
       "152227             0.0       0.0             1          XSS  \n",
       "152228             0.0       0.0             1     DDoS_TCP  \n",
       "152229             0.0       0.0             1     Password  \n",
       "152230             0.0       0.0             0       Normal  \n",
       "152231             0.0       0.0             1    DDoS_ICMP  \n",
       "\n",
       "[152232 rows x 40 columns]>"
      ]
     },
     "execution_count": 115,
     "metadata": {},
     "output_type": "execute_result"
    }
   ],
   "source": [
    "ML_data.head"
   ]
  },
  {
   "cell_type": "code",
   "execution_count": 116,
   "id": "ace88ebe",
   "metadata": {},
   "outputs": [],
   "source": [
    "#Performimg Dummy encoding for categorical features\n",
    "categorical_features = ['http.request.method', 'http.referer', 'http.request.version', \n",
    "                        'dns.qry.name.len', 'mqtt.conack.flags', 'mqtt.protoname', 'mqtt.topic']\n",
    "ML_data = pd.get_dummies(ML_data, columns = categorical_features)\n",
    "DNN_data = pd.get_dummies(DNN_data, columns = categorical_features)\n",
    "\n",
    "\n"
   ]
  },
  {
   "cell_type": "code",
   "execution_count": 117,
   "id": "8e3f4be8",
   "metadata": {},
   "outputs": [
    {
     "data": {
      "text/plain": [
       "Index(['arp.opcode', 'arp.hw.size', 'icmp.checksum', 'icmp.seq_le',\n",
       "       'http.content_length', 'http.response', 'tcp.ack', 'tcp.ack_raw',\n",
       "       'tcp.checksum', 'tcp.connection.fin', 'tcp.connection.rst',\n",
       "       'tcp.connection.syn', 'tcp.connection.synack', 'tcp.flags',\n",
       "       'tcp.flags.ack', 'tcp.len', 'tcp.seq', 'udp.stream', 'udp.time_delta',\n",
       "       'dns.qry.name', 'dns.qry.qu', 'dns.retransmission',\n",
       "       'dns.retransmit_request', 'mqtt.conflag.cleansess', 'mqtt.conflags',\n",
       "       'mqtt.hdrflags', 'mqtt.len', 'mqtt.msgtype', 'mqtt.proto_len',\n",
       "       'mqtt.topic_len', 'mqtt.ver', 'Attack_label', 'Attack_type',\n",
       "       'http.request.method_0.0', 'http.request.method_0',\n",
       "       'http.request.method_0.0', 'http.request.method_GET',\n",
       "       'http.request.method_OPTIONS', 'http.request.method_POST',\n",
       "       'http.request.method_TRACE', 'http.referer_0.0',\n",
       "       'http.referer_() { _; } >_[$($())] { echo 93e4r0-CVE-2014-6278: true; echo;echo; }',\n",
       "       'http.referer_0', 'http.referer_0.0', 'http.referer_127.0.0.1',\n",
       "       'http.request.version_0.0', 'http.request.version_-a HTTP/1.1',\n",
       "       'http.request.version_/etc/passwd|?data=Download HTTP/1.1',\n",
       "       'http.request.version_0', 'http.request.version_0.0',\n",
       "       'http.request.version_By Dr HTTP/1.1', 'http.request.version_HTTP/1.0',\n",
       "       'http.request.version_HTTP/1.1',\n",
       "       'http.request.version_Src=javascript:alert('Vulnerable')><Img Src=\\\" HTTP/1.1',\n",
       "       'dns.qry.name.len_0.0', 'dns.qry.name.len_1.0', 'dns.qry.name.len_0',\n",
       "       'dns.qry.name.len_0.0', 'dns.qry.name.len_0.debian.pool.ntp.org',\n",
       "       'dns.qry.name.len_1.debian.pool.ntp.org',\n",
       "       'dns.qry.name.len_2.debian.pool.ntp.org',\n",
       "       'dns.qry.name.len_3.debian.pool.ntp.org',\n",
       "       'dns.qry.name.len__googlecast._tcp.local', 'mqtt.conack.flags_0.0',\n",
       "       'mqtt.conack.flags_0', 'mqtt.conack.flags_0.0',\n",
       "       'mqtt.conack.flags_0x00000000', 'mqtt.protoname_0.0',\n",
       "       'mqtt.protoname_0', 'mqtt.protoname_0.0', 'mqtt.protoname_MQTT',\n",
       "       'mqtt.topic_0.0', 'mqtt.topic_0', 'mqtt.topic_0.0',\n",
       "       'mqtt.topic_Temperature_and_Humidity'],\n",
       "      dtype='object')"
      ]
     },
     "execution_count": 117,
     "metadata": {},
     "output_type": "execute_result"
    }
   ],
   "source": [
    "ML_data.columns"
   ]
  },
  {
   "cell_type": "code",
   "execution_count": 132,
   "id": "630c35eb",
   "metadata": {},
   "outputs": [
    {
     "data": {
      "text/plain": [
       "0     Backdoor\n",
       "1          XSS\n",
       "2    DDoS_ICMP\n",
       "3    DDoS_ICMP\n",
       "4     Password\n",
       "Name: Attack_type, dtype: object"
      ]
     },
     "execution_count": 132,
     "metadata": {},
     "output_type": "execute_result"
    }
   ],
   "source": [
    "ML_data[\"Attack_type\"].head()"
   ]
  },
  {
   "cell_type": "code",
   "execution_count": 138,
   "id": "6bc76002",
   "metadata": {},
   "outputs": [],
   "source": [
    "def add_6_categories_column(Attack_type):\n",
    "    new_column = []\n",
    "    for attack in Attack_type:\n",
    "        if attack in [\"DDoS_TCP\",\"DDoS_UDP\", \"DDoS_ICMP\", \"DDoS_HTTP\"]:\n",
    "            new_column.append(\"DoS/DDoS\")\n",
    "\n",
    "        if attack in [\"Vulnerability_scanner\",\"Port_Scanning\", \"Fingerprinting\"]:\n",
    "            new_column.append(\"Scanning_Attacks\")\n",
    "\n",
    "        if attack in [\"MITM\"]:\n",
    "            new_column.append(\"MITM\")\n",
    "\n",
    "        if attack in [\"XSS\",\"SQL_injection\", \"Uploading\"]:\n",
    "            new_column.append(\"Injection Attacks\")\n",
    "\n",
    "        if attack in [\"Ransomware\", \"Backdoor\",\"Password\"]:\n",
    "            new_column.append(\"Malware\")\n",
    "\n",
    "        if attack in [\"Normal\"]:\n",
    "            new_column.append(\"Normal\")\n",
    "    return new_column\n",
    "\n",
    "\n",
    "        \n",
    "\n",
    "        \n",
    "    "
   ]
  },
  {
   "cell_type": "code",
   "execution_count": 139,
   "id": "97b97320",
   "metadata": {},
   "outputs": [],
   "source": [
    "ML_categories = add_6_categories_column(ML_data[\"Attack_type\"])\n",
    "DNN_categories = add_6_categories_column(DNN_data[\"Attack_type\"])\n"
   ]
  },
  {
   "cell_type": "code",
   "execution_count": 140,
   "id": "8efb1670",
   "metadata": {},
   "outputs": [],
   "source": [
    "ML_data[\"Attack_class\"] = ML_categories\n",
    "DNN_data[\"Attack_class\"] = DNN_categories"
   ]
  },
  {
   "cell_type": "code",
   "execution_count": 141,
   "id": "c6858e93",
   "metadata": {},
   "outputs": [],
   "source": [
    "ML_data.to_csv('preprocessed_ML_data.csv', index=False)\n",
    "DNN_data.to_csv('preprocessed_DNN_data.csv', index=False)"
   ]
  },
  {
   "cell_type": "code",
   "execution_count": 119,
   "id": "c0ccf054",
   "metadata": {},
   "outputs": [
    {
     "data": {
      "text/plain": [
       "40"
      ]
     },
     "execution_count": 119,
     "metadata": {},
     "output_type": "execute_result"
    }
   ],
   "source": [
    "len(['arp.opcode', 'arp.hw.size', 'icmp.checksum', 'icmp.seq.le', 'http.content_length', 'http.request.method', 'http.referer', 'http.request.version', 'http.response', 'tcp.ack', 'tcp.ack_raw', 'tcp.checksum', 'tcp.connection.fin', 'tcp.connection.rst', 'tcp.connection.syn', 'tcp.connection.synack', 'tcp.flags', 'tcp.flags.ack', 'tcp.len', 'tcp.seq', 'udp.stream', 'udp.time_delta', 'dns.qry.name', 'dns.qry.name.len', 'dns.qry.qu', 'dns.retransmission', 'dns.retransmit.request', 'mqtt.conack.flags', 'mqtt.conflag.cleansess', 'mqtt.conflags', 'mqtt.hdrflags', 'mqtt.len', 'mqtt.msgtype', 'mqtt.proto_len', 'mqtt.protoname', 'mqtt.topic', 'mqtt.topic_len', 'mqtt.ver', 'Attack label', 'Attack_type'])"
   ]
  }
 ],
 "metadata": {
  "kernelspec": {
   "display_name": "attack_prediction",
   "language": "python",
   "name": "python3"
  },
  "language_info": {
   "codemirror_mode": {
    "name": "ipython",
    "version": 3
   },
   "file_extension": ".py",
   "mimetype": "text/x-python",
   "name": "python",
   "nbconvert_exporter": "python",
   "pygments_lexer": "ipython3",
   "version": "3.10.14"
  }
 },
 "nbformat": 4,
 "nbformat_minor": 5
}
